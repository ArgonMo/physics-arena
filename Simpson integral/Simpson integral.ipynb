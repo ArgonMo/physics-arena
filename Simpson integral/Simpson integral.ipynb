{
 "cells": [
  {
   "cell_type": "markdown",
   "metadata": {},
   "source": [
    "# Simpson integral\n",
    "In this notebook write a program for calculate Simpson integral for this function:<br>\n",
    "$ c*x^5+e*x^4+f*x^3+g$ <br>\n",
    "That $ c , e , f , g$ give from user.\n",
    "1. First step is importing libraries:"
   ]
  },
  {
   "cell_type": "code",
   "execution_count": 2,
   "metadata": {},
   "outputs": [],
   "source": [
    "import numpy as np"
   ]
  },
  {
   "cell_type": "markdown",
   "metadata": {},
   "source": [
    "2. Second step is give variables:"
   ]
  },
  {
   "cell_type": "code",
   "execution_count": null,
   "metadata": {},
   "outputs": [],
   "source": [
    "print(\"Enter start and end of integration area:\")\n",
    "a = int(input(\"Start:\"))\n",
    "b = int(input(\"End:\"))\n",
    "\n",
    "print(\"Enter parameters of function\")\n",
    "c = int(input(\"Enter c:\"))\n",
    "e = int(input(\"Enter e:\"))\n",
    "f = int(input(\"Enter f:\"))\n",
    "g = int(input(\"Enter g:\"))"
   ]
  },
  {
   "cell_type": "markdown",
   "metadata": {},
   "source": [
    "3. Use Simpson method for calculate integral:"
   ]
  },
  {
   "cell_type": "code",
   "execution_count": null,
   "metadata": {},
   "outputs": [],
   "source": [
    "n = 11\n",
    "h = (b-a)/(n-1)\n",
    "x = np.linspace(a, b, n)\n",
    "fx = c*(x**5)+e*(x**4)+f*(x**3)+g\n",
    "\n",
    "I_simp = (h/3)*(fx[0] + 2*sum(fx[:n-2:2]) + 4*sum(fx[1:n-1:2]) + fx[n-1])\n",
    "print(I_simp)"
   ]
  }
 ],
 "metadata": {
  "kernelspec": {
   "display_name": "Python 3.10.8 64-bit (microsoft store)",
   "language": "python",
   "name": "python3"
  },
  "language_info": {
   "codemirror_mode": {
    "name": "ipython",
    "version": 3
   },
   "file_extension": ".py",
   "mimetype": "text/x-python",
   "name": "python",
   "nbconvert_exporter": "python",
   "pygments_lexer": "ipython3",
   "version": "3.10.8"
  },
  "orig_nbformat": 4,
  "vscode": {
   "interpreter": {
    "hash": "65a440aeac0c89e2af7569e0aa53b64434c4b69eb6285e2b0d174d9bca190d54"
   }
  }
 },
 "nbformat": 4,
 "nbformat_minor": 2
}
