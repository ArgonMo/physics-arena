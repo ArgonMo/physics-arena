{
 "cells": [
  {
   "cell_type": "markdown",
   "metadata": {},
   "source": [
    "# 2D Ising model\n",
    "In this project, I try to show an Ising model for 2d lattice by metropolice algorythm.<br>\n",
    "1. First step is importing libraries:"
   ]
  },
  {
   "cell_type": "code",
   "execution_count": 2,
   "metadata": {},
   "outputs": [],
   "source": [
    "import numpy as np"
   ]
  },
  {
   "cell_type": "markdown",
   "metadata": {},
   "source": [
    "2. Choose size of lattice:"
   ]
  },
  {
   "cell_type": "code",
   "execution_count": 3,
   "metadata": {},
   "outputs": [],
   "source": [
    "N = int(input(\"Enter size of lattice:\"))"
   ]
  },
  {
   "cell_type": "markdown",
   "metadata": {},
   "source": [
    "3. Define energy of lattice:"
   ]
  },
  {
   "cell_type": "code",
   "execution_count": 4,
   "metadata": {},
   "outputs": [],
   "source": [
    "def energy(config, J, h):\n",
    "    energy = 0.0\n",
    "    for i in range(N):\n",
    "        for j in range(N):\n",
    "            s = config[i, j]\n",
    "            nb_spins = config[(i+1) % N, j] + config[i, (j+1) % N] + \\\n",
    "                config[(i-1) % N, j] + config[i, (j-1) % N]\n",
    "            energy += -J*(nb_spins*s) - h*s\n",
    "\n",
    "    return energy"
   ]
  },
  {
   "cell_type": "markdown",
   "metadata": {},
   "source": [
    "4. Define metropolis algorythm:"
   ]
  },
  {
   "cell_type": "code",
   "execution_count": 5,
   "metadata": {},
   "outputs": [],
   "source": [
    "def metropolis(n, beta, J, h, debug=False, save_freq=10):\n",
    "    spins = 2*np.random.randint(2, size=(N, N))-1\n",
    "    average_spins = []\n",
    "\n",
    "    if debug is True:\n",
    "        print(\"Starting configuration:\", spins)\n",
    "        old_energy = energy(spins, J, h)\n",
    "\n",
    "    for i in range(n):\n",
    "        for j in range(N):\n",
    "            a = np.random.randint(0, N)\n",
    "            b = np.random.randint(0, N)\n",
    "            spins[a, b] *= -1\n",
    "            new_energy = energy(spins, J, h)\n",
    "\n",
    "            r = np.random.random()\n",
    "\n",
    "            if r < min(1, np.exp(-beta*(new_energy-old_energy))):\n",
    "                old_energy = new_energy\n",
    "            else:\n",
    "                spins[a, b] *= -1\n",
    "\n",
    "            average_spin = spins.mean()\n",
    "\n",
    "            if i % save_freq == 0:\n",
    "                average_spins.append(average_spin)\n",
    "\n",
    "            if debug and j % 10 == 0:\n",
    "                print(\"%i: \" % i, spins, \"Energy:\",\n",
    "                      old_energy, \"Spin:\", average_spin)\n",
    "\n",
    "    return average_spins\n"
   ]
  },
  {
   "cell_type": "markdown",
   "metadata": {},
   "source": [
    "5. Show resulats:"
   ]
  },
  {
   "cell_type": "code",
   "execution_count": null,
   "metadata": {},
   "outputs": [],
   "source": [
    "average_spins = metropolis(n=1000, beta=0.1, J=1, h=0, debug=True)"
   ]
  }
 ],
 "metadata": {
  "kernelspec": {
   "display_name": "Python 3.10.8 64-bit (microsoft store)",
   "language": "python",
   "name": "python3"
  },
  "language_info": {
   "codemirror_mode": {
    "name": "ipython",
    "version": 3
   },
   "file_extension": ".py",
   "mimetype": "text/x-python",
   "name": "python",
   "nbconvert_exporter": "python",
   "pygments_lexer": "ipython3",
   "version": "3.10.8"
  },
  "orig_nbformat": 4,
  "vscode": {
   "interpreter": {
    "hash": "65a440aeac0c89e2af7569e0aa53b64434c4b69eb6285e2b0d174d9bca190d54"
   }
  }
 },
 "nbformat": 4,
 "nbformat_minor": 2
}
