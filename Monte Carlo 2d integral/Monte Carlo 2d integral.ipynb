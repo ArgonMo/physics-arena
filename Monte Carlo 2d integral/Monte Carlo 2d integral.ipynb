{
 "cells": [
  {
   "cell_type": "markdown",
   "metadata": {},
   "source": [
    "# Monte Carlo method for 2d integrals\n",
    "Integral in one dimension is not complicated in one dimension. But use this method for integration for two elements (dxdy) is a little diffrent.<br>\n",
    "In this solution integral function is: <br><br>\n",
    "$f(x,y)=\\sin(ax +\\pi/4) * \\cos(px) * \\sqrt{( a*y^2+(b^2*x)+1)}$ \n",
    "; $x,y=[0 , \\pi/2]$\n",
    "\n",
    "1. First step is import is libraries:"
   ]
  },
  {
   "cell_type": "code",
   "execution_count": 7,
   "metadata": {},
   "outputs": [],
   "source": [
    "import numpy as np\n",
    "from scipy import random"
   ]
  },
  {
   "cell_type": "markdown",
   "metadata": {},
   "source": [
    "2. Give parameters from user:"
   ]
  },
  {
   "cell_type": "code",
   "execution_count": 10,
   "metadata": {},
   "outputs": [],
   "source": [
    "c = 0\n",
    "d = np.pi/2\n",
    "n = 1000\n",
    "\n",
    "a = int(input(\"Enter a:\"))\n",
    "b = int(input(\"Enter b:\"))"
   ]
  },
  {
   "cell_type": "markdown",
   "metadata": {},
   "source": [
    "3. Use Monte Carlo method"
   ]
  },
  {
   "cell_type": "code",
   "execution_count": null,
   "metadata": {},
   "outputs": [],
   "source": [
    "arx = np.zeros(n)\n",
    "ary = np.zeros(n)\n",
    "\n",
    "for i in range(len(arx)):\n",
    "    arx[i] = random.uniform(c, d)\n",
    "    ary[i] = random.uniform(c, d)\n",
    "\n",
    "integral = 0.0\n",
    "\n",
    "# Describe function\n",
    "def f(x, y):\n",
    "    return np.sin(a*x + (np.pi/4)) * np.cos(b*x) * np.sqrt(a*(y**2)+((b**2)*x)+1)\n",
    "\n",
    "\n",
    "for i in range(len(arx)):\n",
    "    integral += f(arx[i], ary[i])\n",
    "\n",
    "# Mean value theorem\n",
    "ans = (d-c)*(d-c)/float(n)*integral\n",
    "print(ans)"
   ]
  }
 ],
 "metadata": {
  "kernelspec": {
   "display_name": "Python 3.10.8 64-bit (microsoft store)",
   "language": "python",
   "name": "python3"
  },
  "language_info": {
   "codemirror_mode": {
    "name": "ipython",
    "version": 3
   },
   "file_extension": ".py",
   "mimetype": "text/x-python",
   "name": "python",
   "nbconvert_exporter": "python",
   "pygments_lexer": "ipython3",
   "version": "3.10.8"
  },
  "orig_nbformat": 4,
  "vscode": {
   "interpreter": {
    "hash": "65a440aeac0c89e2af7569e0aa53b64434c4b69eb6285e2b0d174d9bca190d54"
   }
  }
 },
 "nbformat": 4,
 "nbformat_minor": 2
}
