{
 "cells": [
  {
   "cell_type": "markdown",
   "metadata": {},
   "source": [
    "# Gauss-Zidel method for finding potential\n",
    "## Problem:\n",
    "Consider a square space that meshed by 7 * 7.\n"
   ]
  },
  {
   "cell_type": "markdown",
   "metadata": {},
   "source": [
    "1. First step is importing libraries:"
   ]
  },
  {
   "cell_type": "code",
   "execution_count": 4,
   "metadata": {},
   "outputs": [],
   "source": [
    "import numpy as np"
   ]
  },
  {
   "cell_type": "markdown",
   "metadata": {},
   "source": [
    "2. Create Jacobi matrix:"
   ]
  },
  {
   "cell_type": "code",
   "execution_count": 5,
   "metadata": {},
   "outputs": [],
   "source": [
    "def jacobi(A, b, N=25, x=None):\n",
    "    if x is None:\n",
    "        x = np.zeros(len(A[0]))\n",
    "\n",
    "    D = np.diag(A)\n",
    "    R = A - np.diagflat(D)\n",
    "\n",
    "    for i in range(N):\n",
    "        x = (b - np.dot(R, x)) / D\n",
    "\n",
    "    return x"
   ]
  },
  {
   "cell_type": "markdown",
   "metadata": {},
   "source": [
    "3. Solve problem"
   ]
  },
  {
   "cell_type": "code",
   "execution_count": 6,
   "metadata": {},
   "outputs": [
    {
     "name": "stdout",
     "output_type": "stream",
     "text": [
      "[20.99095535 32.25566292 18.85684395  6.11892128 18.85684395 32.25566292\n",
      " 20.99095535]\n"
     ]
    }
   ],
   "source": [
    "z = 0.0\n",
    "h2 = (2.5)**2\n",
    "A = np.array([[2.0, -1.0, z, z, z, z, z],\n",
    "             [-1.0, 2.0, -1.0, z, z, z, z],\n",
    "             [z, -1.0, 2.0, -1.0, z, z, z],\n",
    "             [z, z, -1.0, 2.0, -1.0, z, z],\n",
    "             [z, z, z, -1.0, 2.0, -1.0, z],\n",
    "             [z, z, z, z, -1.0, 2.0, -1.0],\n",
    "             [z, z, z, z, z, -1.0, 2.0]])\n",
    "b = np.array([10, 4*h2, 0, -4*h2, 0, 4*h2, 10])\n",
    "gauss = np.array([1.0, 1.0, 1.0, 1.0, 1.0, 1.0, 1.0])\n",
    "\n",
    "sol = jacobi(A, b, 25, x=gauss)\n",
    "print(sol)"
   ]
  }
 ],
 "metadata": {
  "kernelspec": {
   "display_name": "Python 3.10.8 64-bit (microsoft store)",
   "language": "python",
   "name": "python3"
  },
  "language_info": {
   "codemirror_mode": {
    "name": "ipython",
    "version": 3
   },
   "file_extension": ".py",
   "mimetype": "text/x-python",
   "name": "python",
   "nbconvert_exporter": "python",
   "pygments_lexer": "ipython3",
   "version": "3.10.8"
  },
  "orig_nbformat": 4,
  "vscode": {
   "interpreter": {
    "hash": "65a440aeac0c89e2af7569e0aa53b64434c4b69eb6285e2b0d174d9bca190d54"
   }
  }
 },
 "nbformat": 4,
 "nbformat_minor": 2
}
